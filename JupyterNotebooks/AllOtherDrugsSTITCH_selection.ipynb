{
 "cells": [
  {
   "cell_type": "code",
   "execution_count": 1,
   "id": "ae1ebfe2-3ea3-4347-883f-0f012a3d0176",
   "metadata": {},
   "outputs": [],
   "source": [
    "from glob import glob\n",
    "from framed import load_cbmodel\n",
    "import pandas as pd\n",
    "from framed.io.sbml import sanitize_id\n",
    "import cobra\n",
    "from cobra.io import read_sbml_model\n",
    "from operator import itemgetter\n",
    "from matplotlib_venn import venn2\n",
    "from matplotlib_venn import venn2_unweighted \n",
    "import matplotlib.pyplot as plt"
   ]
  },
  {
   "cell_type": "markdown",
   "id": "a8fdfd27-fb6a-4496-9a10-9c44922168dc",
   "metadata": {},
   "source": [
    "### Matching ids between genes and proteins"
   ]
  },
  {
   "cell_type": "code",
   "execution_count": 14,
   "id": "55b9d985-2fe9-420b-a832-cba82c90e876",
   "metadata": {},
   "outputs": [],
   "source": [
    "def matchingProteinsIDs(featureTable):\n",
    "    #read strain \"feature_table\"\n",
    "    featuresDF = pd.read_csv(featureTable, delimiter = \"\\t\")\n",
    "    OldLocusDF=featuresDF.copy()\n",
    "    OldLocusDF=OldLocusDF[['locus_tag', 'attributes']]\n",
    "    OldLocusDF=OldLocusDF.dropna(subset = [\"attributes\"])\n",
    "    OldLocusDF['attributes'] = OldLocusDF['attributes'].str.split(',', n=1).str.get(-1)\n",
    "    OldLocusDF['attributes'] = OldLocusDF['attributes'].str.split('=', n=1).str.get(-1)\n",
    "    RefSeqIDs=featuresDF.copy()\n",
    "    RefSeqIDs=RefSeqIDs[['product_accession', 'non-redundant_refseq', 'name', 'symbol', 'locus_tag']]\n",
    "    RefSeqIDs = RefSeqIDs.T.drop_duplicates().T\n",
    "    allIDsDF=pd.merge(OldLocusDF, RefSeqIDs, on=\"locus_tag\")\n",
    "    allIDsDF=allIDsDF.dropna(subset = [\"product_accession\"])\n",
    "    allIDsDF=allIDsDF.dropna(subset = [\"attributes\"])\n",
    "    allIDsDF['product_accession'] = allIDsDF['product_accession'].str.replace('.','_')\n",
    "    allIDsDF=allIDsDF.rename(columns = {'locus_tag':'RefSeq_id','attributes':'STITCHid', 'product_accession':'CarveMeID', 'name':'ProteinName'})\n",
    "    allIDsDF['STITCHid'] = '226186.' + allIDsDF['STITCHid'].astype(str)\n",
    "    return allIDsDF"
   ]
  },
  {
   "cell_type": "code",
   "execution_count": 15,
   "id": "d1744af1-8df6-4134-a706-3cedbed65a05",
   "metadata": {},
   "outputs": [
    {
     "name": "stderr",
     "output_type": "stream",
     "text": [
      "/tmp/ipykernel_33549/1641403634.py:15: FutureWarning: The default value of regex will change from True to False in a future version. In addition, single character regular expressions will *not* be treated as literal strings when regex=True.\n",
      "  allIDsDF['product_accession'] = allIDsDF['product_accession'].str.replace('.','_')\n"
     ]
    },
    {
     "data": {
      "text/html": [
       "<div>\n",
       "<style scoped>\n",
       "    .dataframe tbody tr th:only-of-type {\n",
       "        vertical-align: middle;\n",
       "    }\n",
       "\n",
       "    .dataframe tbody tr th {\n",
       "        vertical-align: top;\n",
       "    }\n",
       "\n",
       "    .dataframe thead th {\n",
       "        text-align: right;\n",
       "    }\n",
       "</style>\n",
       "<table border=\"1\" class=\"dataframe\">\n",
       "  <thead>\n",
       "    <tr style=\"text-align: right;\">\n",
       "      <th></th>\n",
       "      <th>RefSeq_id</th>\n",
       "      <th>STITCHid</th>\n",
       "      <th>CarveMeID</th>\n",
       "      <th>ProteinName</th>\n",
       "      <th>symbol</th>\n",
       "    </tr>\n",
       "  </thead>\n",
       "  <tbody>\n",
       "    <tr>\n",
       "      <th>1</th>\n",
       "      <td>BT_RS00005</td>\n",
       "      <td>226186.BT_0001</td>\n",
       "      <td>WP_011107050_1</td>\n",
       "      <td>hypothetical protein</td>\n",
       "      <td>NaN</td>\n",
       "    </tr>\n",
       "    <tr>\n",
       "      <th>3</th>\n",
       "      <td>BT_RS00010</td>\n",
       "      <td>226186.BT_0002</td>\n",
       "      <td>WP_009039994_1</td>\n",
       "      <td>hypothetical protein</td>\n",
       "      <td>NaN</td>\n",
       "    </tr>\n",
       "    <tr>\n",
       "      <th>5</th>\n",
       "      <td>BT_RS00015</td>\n",
       "      <td>226186.BT_0003</td>\n",
       "      <td>WP_009039993_1</td>\n",
       "      <td>DUF4469 domain-containing protein</td>\n",
       "      <td>NaN</td>\n",
       "    </tr>\n",
       "    <tr>\n",
       "      <th>7</th>\n",
       "      <td>BT_RS00020</td>\n",
       "      <td>226186.BT_0004</td>\n",
       "      <td>WP_008647129_1</td>\n",
       "      <td>hypothetical protein</td>\n",
       "      <td>NaN</td>\n",
       "    </tr>\n",
       "    <tr>\n",
       "      <th>9</th>\n",
       "      <td>BT_RS00030</td>\n",
       "      <td>226186.BT_0006</td>\n",
       "      <td>WP_011107052_1</td>\n",
       "      <td>hypothetical protein</td>\n",
       "      <td>NaN</td>\n",
       "    </tr>\n",
       "    <tr>\n",
       "      <th>...</th>\n",
       "      <td>...</td>\n",
       "      <td>...</td>\n",
       "      <td>...</td>\n",
       "      <td>...</td>\n",
       "      <td>...</td>\n",
       "    </tr>\n",
       "    <tr>\n",
       "      <th>9763</th>\n",
       "      <td>BT_RS24270</td>\n",
       "      <td>226186.BT_p548234</td>\n",
       "      <td>WP_005648594_1</td>\n",
       "      <td>recombinase family protein</td>\n",
       "      <td>NaN</td>\n",
       "    </tr>\n",
       "    <tr>\n",
       "      <th>9765</th>\n",
       "      <td>BT_RS24275</td>\n",
       "      <td>226186.BT_p548235</td>\n",
       "      <td>WP_011109635_1</td>\n",
       "      <td>Fic family protein</td>\n",
       "      <td>NaN</td>\n",
       "    </tr>\n",
       "    <tr>\n",
       "      <th>9767</th>\n",
       "      <td>BT_RS24280</td>\n",
       "      <td>226186.BT_p548236</td>\n",
       "      <td>WP_005648588_1</td>\n",
       "      <td>hypothetical protein</td>\n",
       "      <td>NaN</td>\n",
       "    </tr>\n",
       "    <tr>\n",
       "      <th>9769</th>\n",
       "      <td>BT_RS24285</td>\n",
       "      <td>226186.BT_p548237</td>\n",
       "      <td>WP_162303076_1</td>\n",
       "      <td>hypothetical protein</td>\n",
       "      <td>NaN</td>\n",
       "    </tr>\n",
       "    <tr>\n",
       "      <th>9771</th>\n",
       "      <td>BT_RS24295</td>\n",
       "      <td>226186.BT_p548238</td>\n",
       "      <td>WP_011109637_1</td>\n",
       "      <td>ssDNA-binding domain-containing protein</td>\n",
       "      <td>NaN</td>\n",
       "    </tr>\n",
       "  </tbody>\n",
       "</table>\n",
       "<p>4540 rows × 5 columns</p>\n",
       "</div>"
      ],
      "text/plain": [
       "       RefSeq_id           STITCHid       CarveMeID  \\\n",
       "1     BT_RS00005     226186.BT_0001  WP_011107050_1   \n",
       "3     BT_RS00010     226186.BT_0002  WP_009039994_1   \n",
       "5     BT_RS00015     226186.BT_0003  WP_009039993_1   \n",
       "7     BT_RS00020     226186.BT_0004  WP_008647129_1   \n",
       "9     BT_RS00030     226186.BT_0006  WP_011107052_1   \n",
       "...          ...                ...             ...   \n",
       "9763  BT_RS24270  226186.BT_p548234  WP_005648594_1   \n",
       "9765  BT_RS24275  226186.BT_p548235  WP_011109635_1   \n",
       "9767  BT_RS24280  226186.BT_p548236  WP_005648588_1   \n",
       "9769  BT_RS24285  226186.BT_p548237  WP_162303076_1   \n",
       "9771  BT_RS24295  226186.BT_p548238  WP_011109637_1   \n",
       "\n",
       "                                  ProteinName symbol  \n",
       "1                        hypothetical protein    NaN  \n",
       "3                        hypothetical protein    NaN  \n",
       "5           DUF4469 domain-containing protein    NaN  \n",
       "7                        hypothetical protein    NaN  \n",
       "9                        hypothetical protein    NaN  \n",
       "...                                       ...    ...  \n",
       "9763               recombinase family protein    NaN  \n",
       "9765                       Fic family protein    NaN  \n",
       "9767                     hypothetical protein    NaN  \n",
       "9769                     hypothetical protein    NaN  \n",
       "9771  ssDNA-binding domain-containing protein    NaN  \n",
       "\n",
       "[4540 rows x 5 columns]"
      ]
     },
     "execution_count": 15,
     "metadata": {},
     "output_type": "execute_result"
    }
   ],
   "source": [
    "MatchProteinIDs=matchingProteinsIDs('GCF_000011065.1_ASM1106v1_feature_table.txt')\n",
    "MatchProteinIDs"
   ]
  },
  {
   "cell_type": "code",
   "execution_count": 16,
   "id": "f130db18-cb94-4c6d-b581-98bcee31f355",
   "metadata": {},
   "outputs": [],
   "source": [
    "FastaGenes=list(MatchProteinIDs.STITCHid.unique())"
   ]
  },
  {
   "cell_type": "markdown",
   "id": "9a27397b-f177-4972-94e3-a027c2fe8558",
   "metadata": {},
   "source": [
    "## load Btheta STITCH file \"226186.actions.v5.0.tsv.gz\""
   ]
  },
  {
   "cell_type": "code",
   "execution_count": 17,
   "id": "12e97c3f-32de-401c-8f16-8ce6c9f9220f",
   "metadata": {},
   "outputs": [],
   "source": [
    "drug_actions=pd.read_csv('226186.actions.v5.0.tsv.gz', sep='\\t', header=0)\n",
    "# drug_actions"
   ]
  },
  {
   "cell_type": "markdown",
   "id": "88d65901-3c0a-499a-9f7c-e62866f413cb",
   "metadata": {},
   "source": [
    "## reduce file to only inhibiting drugs"
   ]
  },
  {
   "cell_type": "code",
   "execution_count": 18,
   "id": "024d346a-aa30-49db-ba4e-fd4b4070e16e",
   "metadata": {},
   "outputs": [],
   "source": [
    "StitchInhibit=drug_actions.copy()\n",
    "StitchInhibit=StitchInhibit[(StitchInhibit['mode'] == 'inhibition') & (StitchInhibit['action'] == 'inhibition')]\n",
    "StitchInhibit=StitchInhibit[(StitchInhibit['item_id_a'].str.contains('CID')) & (StitchInhibit['a_is_acting'] == 't')]\n",
    "StitchInhibit['CIDno'] = StitchInhibit['item_id_a'].str.replace(\"CIDs\", '')\n",
    "StitchInhibit['CIDno'] = StitchInhibit['CIDno'].str.replace(\"CIDm\", '')\n",
    "# StitchInhibit"
   ]
  },
  {
   "cell_type": "markdown",
   "id": "86fdecc6-a6c9-489a-bab1-889e3900f384",
   "metadata": {},
   "source": [
    "#### this means that when a drug is inhibiting a gene, both \"mode\" and \"action\" are \"inhibiting\""
   ]
  },
  {
   "cell_type": "markdown",
   "id": "17d4c766-0ba5-452b-a85b-767692fbe531",
   "metadata": {},
   "source": [
    "## get drugs selected from papers"
   ]
  },
  {
   "cell_type": "code",
   "execution_count": 19,
   "id": "57476496-c4a1-486b-ae2e-c67a0e6fd17d",
   "metadata": {},
   "outputs": [],
   "source": [
    "PaperNeuro=pd.read_excel('MaierEtAl2018_AllOtherDrugs.xlsx', index_col=0 )\n",
    "PaperNeuro['CIDno'] = PaperNeuro['CID'].str.replace(\"CIDs\", '')\n",
    "# PaperNeuro"
   ]
  },
  {
   "cell_type": "markdown",
   "id": "d833d36e-c5b3-4bce-bc4c-c28272ba0e19",
   "metadata": {},
   "source": [
    "# See if all drugs selected are in STITCH files"
   ]
  },
  {
   "cell_type": "code",
   "execution_count": null,
   "id": "53f323a2-369a-4a52-a6ed-2145e047b890",
   "metadata": {},
   "outputs": [],
   "source": [
    "#neuro CIDs list\n",
    "uniqueNeuroCIDs=PaperNeuro.CIDno.unique()\n",
    "print('unique prestwicks',len(list(PaperNeuro.prestwickID.unique())))\n",
    "uniqueNeuroCIDs=list(uniqueNeuroCIDs)\n",
    "#stitch inhibit CID list\n",
    "StitchInhibit=StitchInhibit[StitchInhibit['item_id_b'].isin(FastaGenes)]\n",
    "uniqueStitchInhibitCIDs=StitchInhibit.CIDno.unique()\n",
    "uniqueStitchInhibitCIDs=list(uniqueStitchInhibitCIDs)\n",
    "\n",
    "#Stitch dataframe containing neuro drugs\n",
    "NeuroStitchInhibit=StitchInhibit[StitchInhibit['CIDno'].isin(uniqueNeuroCIDs)]\n",
    "UniqueNeuroStitchInhibit=list(NeuroStitchInhibit.CIDno.unique())\n",
    "print(len(UniqueNeuroStitchInhibit), 'out of', len(list(uniqueNeuroCIDs)), 'unique neuroactive drug CIDs, have STITCH inhibiting information')\n",
    "# NeuroStitchInhibit"
   ]
  },
  {
   "cell_type": "code",
   "execution_count": 21,
   "id": "6c6828eb-a776-44d9-810d-fe8c998643ec",
   "metadata": {},
   "outputs": [
    {
     "data": {
      "image/png": "[encoded data removed]",
      "text/plain": [
       "<Figure size 432x288 with 1 Axes>"
      ]
     },
     "metadata": {},
     "output_type": "display_data"
    }
   ],
   "source": [
    "firstVenn=venn2([set(uniqueNeuroCIDs), set(uniqueStitchInhibitCIDs)],set_labels=('Drugs in paper', 'Drugs with inhibiting information in STITCH'), set_colors=('orange', 'blue'))\n",
    "for text in firstVenn.subset_labels:\n",
    "    text.set_fontsize(12)"
   ]
  },
  {
   "cell_type": "markdown",
   "id": "b36a09c9-1267-42e8-9156-9c1f418251fa",
   "metadata": {},
   "source": [
    "### get list of drugs that have the same CID but more than one prestwick id, thus names"
   ]
  },
  {
   "cell_type": "code",
   "execution_count": null,
   "id": "97dcb97d-7a0a-4031-b73c-36859fcd7b74",
   "metadata": {},
   "outputs": [],
   "source": [
    "drugsSameCID=[]\n",
    "for cid in uniqueNeuroCIDs:\n",
    "    correspRows=PaperNeuro.loc[PaperNeuro['CIDno'] == cid]\n",
    "    if len(correspRows.index) > 1: #if there are cids with more than 1 row, i.e., that have different names, get the prestwickID\n",
    "        prestwickIDs=correspRows['prestwickID'].tolist()\n",
    "        print('cid of the drug', cid,'/', 'prestwick cids', prestwickIDs)\n",
    "        drugsSameCID.append(cid)\n",
    "# drugsSameCID"
   ]
  },
  {
   "cell_type": "code",
   "execution_count": null,
   "id": "ccbf510b-6c7b-4f9f-9cf5-5a9db2415d01",
   "metadata": {},
   "outputs": [],
   "source": [
    "#number of drugs with same CID that have STITCH info.\n",
    "drugsSameCIDset=set(drugsSameCID)\n",
    "uniqueStitchInhibitCIDsset=set(UniqueNeuroStitchInhibit)\n",
    "\n",
    "intersection = drugsSameCIDset.intersection(uniqueStitchInhibitCIDsset)\n",
    "intersection"
   ]
  },
  {
   "cell_type": "code",
   "execution_count": null,
   "id": "0cad4934-75d2-4e90-9615-e4fc1a2d496b",
   "metadata": {},
   "outputs": [],
   "source": [
    "STITCH_PapersInfo=pd.merge(PaperNeuro, NeuroStitchInhibit, on=\"CIDno\")\n",
    "# STITCH_PapersInfo"
   ]
  },
  {
   "cell_type": "code",
   "execution_count": 10,
   "id": "630e22b5-132d-4903-9ce4-258d232999f6",
   "metadata": {},
   "outputs": [
    {
     "name": "stdout",
     "output_type": "stream",
     "text": [
      "234\n"
     ]
    }
   ],
   "source": [
    "STITCH_PapersInfo=STITCH_PapersInfo.drop(columns=['CID', 'mode', 'action', 'a_is_acting'])\n",
    "print(len(list(STITCH_PapersInfo.CIDno.unique())))"
   ]
  },
  {
   "cell_type": "code",
   "execution_count": null,
   "id": "056bd464-160b-42c1-8017-ee567d9224dc",
   "metadata": {},
   "outputs": [],
   "source": [
    "# STITCH_PapersInfo"
   ]
  },
  {
   "cell_type": "markdown",
   "id": "9302df5e-b63d-4695-b613-058c5a977f96",
   "metadata": {},
   "source": [
    "### read excel of matching ids between genes and proteins"
   ]
  },
  {
   "cell_type": "code",
   "execution_count": 7,
   "id": "87a38d78-c0a5-45a1-8c63-dad61c52a3e5",
   "metadata": {},
   "outputs": [],
   "source": [
    "BthetaProteinIds=MatchProteinIDs.copy()\n",
    "BthetaProteinIds=BthetaProteinIds.drop(columns=[\"RefSeq_id\"])\n",
    "# BthetaProteinIds"
   ]
  },
  {
   "cell_type": "code",
   "execution_count": null,
   "id": "52ac46f8-a11e-4598-b476-cb4537662c45",
   "metadata": {},
   "outputs": [],
   "source": [
    "#Venn Diagram\n",
    "# ProteinsStitchNpaper=set(list(STITCH_PapersInfo.item_id_b.unique()))\n",
    "# ProteinsFasta=set(list(MatchProteinIDs.STITCHid.unique()))\n",
    "# secondVenn=venn2([ProteinsFasta, ProteinsStitchNpaper],set_labels=('ProteinsFASTA', 'ProteinsStitchNpaper'), set_colors=('orange', 'blue'))\n",
    "# for text in secondVenn.subset_labels:\n",
    "#     text.set_fontsize(12)"
   ]
  },
  {
   "cell_type": "code",
   "execution_count": 15,
   "id": "31f1de4b-37a8-4932-8803-4f0e147f7c5c",
   "metadata": {},
   "outputs": [],
   "source": [
    "STITCH_PapersInfo=STITCH_PapersInfo.rename(columns = {'item_id_b':'STITCHid'})\n",
    "# STITCH_PapersInfo"
   ]
  },
  {
   "cell_type": "code",
   "execution_count": 16,
   "id": "4cf8cd62-9daf-4fc4-9df6-538b1589b957",
   "metadata": {},
   "outputs": [
    {
     "data": {
      "text/html": [
       "<div>\n",
       "<style scoped>\n",
       "    .dataframe tbody tr th:only-of-type {\n",
       "        vertical-align: middle;\n",
       "    }\n",
       "\n",
       "    .dataframe tbody tr th {\n",
       "        vertical-align: top;\n",
       "    }\n",
       "\n",
       "    .dataframe thead th {\n",
       "        text-align: right;\n",
       "    }\n",
       "</style>\n",
       "<table border=\"1\" class=\"dataframe\">\n",
       "  <thead>\n",
       "    <tr style=\"text-align: right;\">\n",
       "      <th></th>\n",
       "      <th>STITCHid</th>\n",
       "      <th>CarveMeID</th>\n",
       "      <th>ProteinName</th>\n",
       "      <th>symbol</th>\n",
       "      <th>prestwickID</th>\n",
       "      <th>DrugName</th>\n",
       "      <th>ATCcodes</th>\n",
       "      <th>targetSpecies</th>\n",
       "      <th>CIDno</th>\n",
       "      <th>item_id_a</th>\n",
       "      <th>score</th>\n",
       "    </tr>\n",
       "  </thead>\n",
       "  <tbody>\n",
       "    <tr>\n",
       "      <th>1068</th>\n",
       "      <td>226186.BT_2047</td>\n",
       "      <td>WP_008761063_1</td>\n",
       "      <td>thymidylate synthase</td>\n",
       "      <td>NaN</td>\n",
       "      <td>Prestw-738</td>\n",
       "      <td>Folinic acid calcium salt</td>\n",
       "      <td>V03AF03 V03AF04 V03AF06</td>\n",
       "      <td>human</td>\n",
       "      <td>00000143</td>\n",
       "      <td>CIDm00000143</td>\n",
       "      <td>690</td>\n",
       "    </tr>\n",
       "    <tr>\n",
       "      <th>483</th>\n",
       "      <td>226186.BT_0555</td>\n",
       "      <td>WP_008765068_1</td>\n",
       "      <td>amidophosphoribosyltransferase</td>\n",
       "      <td>NaN</td>\n",
       "      <td>Prestw-356</td>\n",
       "      <td>Adenosine 5'-monophosphate monohydrate</td>\n",
       "      <td>-</td>\n",
       "      <td>not a drug</td>\n",
       "      <td>00000224</td>\n",
       "      <td>CIDm00000224</td>\n",
       "      <td>725</td>\n",
       "    </tr>\n",
       "    <tr>\n",
       "      <th>1827</th>\n",
       "      <td>226186.BT_4582</td>\n",
       "      <td>WP_008764741_1</td>\n",
       "      <td>amidophosphoribosyltransferase</td>\n",
       "      <td>NaN</td>\n",
       "      <td>Prestw-356</td>\n",
       "      <td>Adenosine 5'-monophosphate monohydrate</td>\n",
       "      <td>-</td>\n",
       "      <td>not a drug</td>\n",
       "      <td>00000224</td>\n",
       "      <td>CIDm00000224</td>\n",
       "      <td>725</td>\n",
       "    </tr>\n",
       "    <tr>\n",
       "      <th>751</th>\n",
       "      <td>226186.BT_1221</td>\n",
       "      <td>WP_008763420_1</td>\n",
       "      <td>glucose-6-phosphate dehydrogenase</td>\n",
       "      <td>zwf</td>\n",
       "      <td>Prestw-440</td>\n",
       "      <td>Epiandrosterone</td>\n",
       "      <td>A14AA</td>\n",
       "      <td>human</td>\n",
       "      <td>00000225</td>\n",
       "      <td>CIDm00000225</td>\n",
       "      <td>564</td>\n",
       "    </tr>\n",
       "    <tr>\n",
       "      <th>752</th>\n",
       "      <td>226186.BT_1221</td>\n",
       "      <td>WP_008763420_1</td>\n",
       "      <td>glucose-6-phosphate dehydrogenase</td>\n",
       "      <td>zwf</td>\n",
       "      <td>Prestw-697</td>\n",
       "      <td>3-alpha-Hydroxy-5-beta-androstan-17-one</td>\n",
       "      <td>A14AA</td>\n",
       "      <td>human</td>\n",
       "      <td>00000225</td>\n",
       "      <td>CIDm00000225</td>\n",
       "      <td>564</td>\n",
       "    </tr>\n",
       "    <tr>\n",
       "      <th>...</th>\n",
       "      <td>...</td>\n",
       "      <td>...</td>\n",
       "      <td>...</td>\n",
       "      <td>...</td>\n",
       "      <td>...</td>\n",
       "      <td>...</td>\n",
       "      <td>...</td>\n",
       "      <td>...</td>\n",
       "      <td>...</td>\n",
       "      <td>...</td>\n",
       "      <td>...</td>\n",
       "    </tr>\n",
       "    <tr>\n",
       "      <th>898</th>\n",
       "      <td>226186.BT_1438</td>\n",
       "      <td>WP_016267165_1</td>\n",
       "      <td>MFS transporter</td>\n",
       "      <td>NaN</td>\n",
       "      <td>Prestw-211</td>\n",
       "      <td>Piroxicam</td>\n",
       "      <td>M01AC01 M02AA07 S01BC06</td>\n",
       "      <td>human</td>\n",
       "      <td>23690938</td>\n",
       "      <td>CIDm23690938</td>\n",
       "      <td>380</td>\n",
       "    </tr>\n",
       "    <tr>\n",
       "      <th>1655</th>\n",
       "      <td>226186.BT_3606</td>\n",
       "      <td>WP_008767094_1</td>\n",
       "      <td>sugar porter family MFS transporter</td>\n",
       "      <td>NaN</td>\n",
       "      <td>Prestw-211</td>\n",
       "      <td>Piroxicam</td>\n",
       "      <td>M01AC01 M02AA07 S01BC06</td>\n",
       "      <td>human</td>\n",
       "      <td>23690938</td>\n",
       "      <td>CIDs23690938</td>\n",
       "      <td>380</td>\n",
       "    </tr>\n",
       "    <tr>\n",
       "      <th>120</th>\n",
       "      <td>226186.BT_0436</td>\n",
       "      <td>WP_008766062_1</td>\n",
       "      <td>sugar porter family MFS transporter</td>\n",
       "      <td>NaN</td>\n",
       "      <td>Prestw-211</td>\n",
       "      <td>Piroxicam</td>\n",
       "      <td>M01AC01 M02AA07 S01BC06</td>\n",
       "      <td>human</td>\n",
       "      <td>23690938</td>\n",
       "      <td>CIDm23690938</td>\n",
       "      <td>380</td>\n",
       "    </tr>\n",
       "    <tr>\n",
       "      <th>854</th>\n",
       "      <td>226186.BT_1383</td>\n",
       "      <td>WP_011107747_1</td>\n",
       "      <td>aldo/keto reductase</td>\n",
       "      <td>NaN</td>\n",
       "      <td>Prestw-785</td>\n",
       "      <td>Dicumarol</td>\n",
       "      <td>B01AA01</td>\n",
       "      <td>human</td>\n",
       "      <td>25201794</td>\n",
       "      <td>CIDm25201794</td>\n",
       "      <td>434</td>\n",
       "    </tr>\n",
       "    <tr>\n",
       "      <th>538</th>\n",
       "      <td>226186.BT_0673</td>\n",
       "      <td>WP_008761351_1</td>\n",
       "      <td>NAD(P)H-dependent oxidoreductase</td>\n",
       "      <td>NaN</td>\n",
       "      <td>Prestw-785</td>\n",
       "      <td>Dicumarol</td>\n",
       "      <td>B01AA01</td>\n",
       "      <td>human</td>\n",
       "      <td>25201794</td>\n",
       "      <td>CIDs25201794</td>\n",
       "      <td>564</td>\n",
       "    </tr>\n",
       "  </tbody>\n",
       "</table>\n",
       "<p>1162 rows × 11 columns</p>\n",
       "</div>"
      ],
      "text/plain": [
       "            STITCHid       CarveMeID                          ProteinName  \\\n",
       "1068  226186.BT_2047  WP_008761063_1                 thymidylate synthase   \n",
       "483   226186.BT_0555  WP_008765068_1       amidophosphoribosyltransferase   \n",
       "1827  226186.BT_4582  WP_008764741_1       amidophosphoribosyltransferase   \n",
       "751   226186.BT_1221  WP_008763420_1    glucose-6-phosphate dehydrogenase   \n",
       "752   226186.BT_1221  WP_008763420_1    glucose-6-phosphate dehydrogenase   \n",
       "...              ...             ...                                  ...   \n",
       "898   226186.BT_1438  WP_016267165_1                      MFS transporter   \n",
       "1655  226186.BT_3606  WP_008767094_1  sugar porter family MFS transporter   \n",
       "120   226186.BT_0436  WP_008766062_1  sugar porter family MFS transporter   \n",
       "854   226186.BT_1383  WP_011107747_1                  aldo/keto reductase   \n",
       "538   226186.BT_0673  WP_008761351_1     NAD(P)H-dependent oxidoreductase   \n",
       "\n",
       "     symbol prestwickID                                 DrugName  \\\n",
       "1068    NaN  Prestw-738                Folinic acid calcium salt   \n",
       "483     NaN  Prestw-356   Adenosine 5'-monophosphate monohydrate   \n",
       "1827    NaN  Prestw-356   Adenosine 5'-monophosphate monohydrate   \n",
       "751     zwf  Prestw-440                          Epiandrosterone   \n",
       "752     zwf  Prestw-697  3-alpha-Hydroxy-5-beta-androstan-17-one   \n",
       "...     ...         ...                                      ...   \n",
       "898     NaN  Prestw-211                                Piroxicam   \n",
       "1655    NaN  Prestw-211                                Piroxicam   \n",
       "120     NaN  Prestw-211                                Piroxicam   \n",
       "854     NaN  Prestw-785                                Dicumarol   \n",
       "538     NaN  Prestw-785                                Dicumarol   \n",
       "\n",
       "                     ATCcodes targetSpecies     CIDno     item_id_a  score  \n",
       "1068  V03AF03 V03AF04 V03AF06         human  00000143  CIDm00000143    690  \n",
       "483                         -    not a drug  00000224  CIDm00000224    725  \n",
       "1827                        -    not a drug  00000224  CIDm00000224    725  \n",
       "751                     A14AA         human  00000225  CIDm00000225    564  \n",
       "752                     A14AA         human  00000225  CIDm00000225    564  \n",
       "...                       ...           ...       ...           ...    ...  \n",
       "898   M01AC01 M02AA07 S01BC06         human  23690938  CIDm23690938    380  \n",
       "1655  M01AC01 M02AA07 S01BC06         human  23690938  CIDs23690938    380  \n",
       "120   M01AC01 M02AA07 S01BC06         human  23690938  CIDm23690938    380  \n",
       "854                   B01AA01         human  25201794  CIDm25201794    434  \n",
       "538                   B01AA01         human  25201794  CIDs25201794    564  \n",
       "\n",
       "[1162 rows x 11 columns]"
      ]
     },
     "execution_count": 16,
     "metadata": {},
     "output_type": "execute_result"
    }
   ],
   "source": [
    "proteinMatching=pd.merge(BthetaProteinIds, STITCH_PapersInfo, on=\"STITCHid\")\n",
    "proteinMatching=proteinMatching.sort_values(by=['CIDno'])\n",
    "proteinMatching.drop_duplicates(subset=['STITCHid', 'CarveMeID', 'prestwickID', 'CIDno'], keep=\"first\", inplace=True)\n",
    "# proteinMatching=proteinMatching[proteinMatching['targetSpecies'] != \"not a drug\"]\n",
    "proteinMatching"
   ]
  },
  {
   "cell_type": "code",
   "execution_count": 17,
   "id": "c22d2ebf-53f9-418a-9838-8c435b28505c",
   "metadata": {},
   "outputs": [
    {
     "name": "stdout",
     "output_type": "stream",
     "text": [
      "number of unique prestwick IDs 242\n"
     ]
    }
   ],
   "source": [
    "print('number of unique prestwick IDs', len(list(proteinMatching.prestwickID.unique())))"
   ]
  },
  {
   "cell_type": "code",
   "execution_count": 19,
   "id": "0dadd38d-54f1-4d06-a9c5-5e7e6334fe18",
   "metadata": {},
   "outputs": [],
   "source": [
    "# proteinMatching.to_excel(\"Btheta_2018AllOtherDrugsInhibit.xlsx\")"
   ]
  }
 ],
 "metadata": {
  "kernelspec": {
   "display_name": "Python 3 (ipykernel)",
   "language": "python",
   "name": "python3"
  },
  "language_info": {
   "codemirror_mode": {
    "name": "ipython",
    "version": 3
   },
   "file_extension": ".py",
   "mimetype": "text/x-python",
   "name": "python",
   "nbconvert_exporter": "python",
   "pygments_lexer": "ipython3",
   "version": "3.9.6"
  }
 },
 "nbformat": 4,
 "nbformat_minor": 5
}
