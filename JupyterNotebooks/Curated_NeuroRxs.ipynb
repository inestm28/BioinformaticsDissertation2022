{
 "cells": [
  {
   "cell_type": "code",
   "execution_count": 1,
   "id": "61a7f96d-ed7a-42a4-9822-6e07db8e426b",
   "metadata": {},
   "outputs": [],
   "source": [
    "from glob import glob\n",
    "from framed import load_cbmodel\n",
    "import pandas as pd\n",
    "import numpy as np\n",
    "from framed.io.sbml import sanitize_id\n",
    "import reframed\n",
    "from reframed.cobra.ensemble import load_ensemble\n",
    "import cobra\n",
    "from cobra.io import read_sbml_model\n",
    "import pandas as pd\n",
    "import re"
   ]
  },
  {
   "cell_type": "code",
   "execution_count": 2,
   "id": "d87ac65f-63bc-427c-b4f5-56d6c40be291",
   "metadata": {},
   "outputs": [
    {
     "name": "stdout",
     "output_type": "stream",
     "text": [
      "25\n"
     ]
    }
   ],
   "source": [
    "NeuroMetab=['glu-L[c]', 'glu-L[e]', 'glu-D[c]', 'trp-L[c]', 'trp-L[e]', 'taur[e]', 'taur[c]', 'but[c]', 'ppa[c]', 'ppa[e]', 'ac[c]', 'ac[e]','inost[c]', \n",
    "                 'mqn8[c]', 'mqn8[e]','mqn9[e]','mqn9[c]','mqn10[c]','mqn10[e]','mqn11[c]','mqn11[e]','mqn7[c]','mqn7[e]'\n",
    "                , 'quln[c]', 'amet[c]']\n",
    "print(len(NeuroMetab))\n",
    "Curated_NeuroMetabs=pd.DataFrame(NeuroMetab, columns=['BiGGIDnoM'])\n",
    "# Curated_NeuroMetabs.to_excel('curated_neuroMetabs.xlsx')"
   ]
  },
  {
   "cell_type": "code",
   "execution_count": 3,
   "id": "a970e4fd-253b-43e3-900a-b30eb653a20b",
   "metadata": {},
   "outputs": [
    {
     "name": "stdout",
     "output_type": "stream",
     "text": [
      "Scaling...\n",
      " A: min|aij| =  1.000e+00  max|aij| =  1.000e+00  ratio =  1.000e+00\n",
      "Problem data seem to be well scaled\n",
      "dataframe with reactions \n",
      ":        reaction metabolite     RxType\n",
      "29   26DAPLLATi   glu-L[c]  consuming\n",
      "30         ACGS   glu-L[c]  consuming\n",
      "70         ACKr      ac[c]  producing\n",
      "71        ACODA      ac[c]  producing\n",
      "0         ACOTA   glu-L[c]  producing\n",
      "..          ...        ...        ...\n",
      "27        TYRTA   glu-L[c]  producing\n",
      "47       UAMAGS   glu-D[c]  consuming\n",
      "79    UHGADA_HP      ac[c]  producing\n",
      "128      URFGTT    amet[c]  consuming\n",
      "28        VALTA   glu-L[c]  producing\n",
      "\n",
      "[129 rows x 3 columns]\n"
     ]
    }
   ],
   "source": [
    "M9Series=pd.read_excel('BthetaCuratedMinimalMedium.xlsx', index_col=0)\n",
    "M9List=M9Series.index.tolist()\n",
    "Media=pd.read_excel('carvemeMedia.xlsx')\n",
    "M9CarvemeMedium=Media['M9'].tolist()\n",
    "CarvemeM9Metabs=list(set(M9CarvemeMedium) - set(M9List))\n",
    "M9Medium=M9List+CarvemeM9Metabs\n",
    "LBmediumList=Media['LB'].tolist()\n",
    "LBmedium=LBmediumList+M9Medium\n",
    "MediumList=[LBmedium]\n",
    "for medium in MediumList:\n",
    "    Model=read_sbml_model('Btheta_curated.xml')  \n",
    "    Model.optimize()\n",
    "    ModelMedium=[v for v in Model.medium.keys()] # has all Exchange reactions active\n",
    "    ModelMedium.remove(\"EX_glc(e)\")\n",
    "    Model.reactions.get_by_id('EX_o2(e)').bounds = (0.0, 1000.0)        \n",
    "    for mediumRx in ModelMedium: #go through each reaction in medium\n",
    "        if mediumRx not in medium: #put the rxs that are not in M9 composition as inactive so that we have M9 medium\n",
    "            Model.reactions.get_by_id(mediumRx).bounds = (0.0, 1000.0) #put the flux as INACTIVE\n",
    "    for Ex_rx in Model.medium.keys():\n",
    "        Model.reactions.get_by_id(Ex_rx).lower_bound = -10\n",
    "        Model.reactions.get_by_id(Ex_rx).upper_bound = 1000\n",
    "    Model.optimize()\n",
    "    ModelMetabs=[]\n",
    "    ReactionsIdData=[]\n",
    "    ReactionsIdDataIndexNames=[]\n",
    "    TransportersINneuroRXs=[]\n",
    "    TransptGPRList=[]\n",
    "    UMetabList=[]\n",
    "\n",
    "    for NeuroactiveMetab in NeuroMetab:\n",
    "#         print(NeuroactiveMetab)\n",
    "\n",
    "        reactionsID=[]\n",
    "        genesList=[]\n",
    "\n",
    "        producingDF=Model.metabolites.get_by_id(NeuroactiveMetab).summary().producing_flux\n",
    "        consumingDF=Model.metabolites.get_by_id(NeuroactiveMetab).summary().consuming_flux\n",
    "\n",
    "        if producingDF.empty==False:\n",
    "            slicedProducingDF=producingDF[['reaction']]\n",
    "            listOfProdStrings = ['producing'] * slicedProducingDF.shape[0]\n",
    "            slicedProducingDF.insert(1, \"RxType\", listOfProdStrings, True)\n",
    "\n",
    "        if consumingDF.empty==False:\n",
    "            slicedConsumingDF=consumingDF[['reaction']]\n",
    "            listOfConsumStrings = ['consuming'] * slicedConsumingDF.shape[0]\n",
    "            slicedConsumingDF.insert(1, \"RxType\", listOfConsumStrings, True)\n",
    "\n",
    "            AllRXsDF = pd.concat([slicedProducingDF, slicedConsumingDF])\n",
    "\n",
    "            for index, rows in AllRXsDF.iterrows():    # Put REACTIONids in a list so that we can later loop over it\n",
    "                RowIndex = str(NeuroactiveMetab)\n",
    "                Row =[rows.reaction, RowIndex, rows.RxType]\n",
    "                ReactionsIdData.append(Row)\n",
    "\n",
    "ReactionsIdDf=pd.DataFrame(ReactionsIdData, columns=['reaction',  'metabolite', 'RxType'])\n",
    "ReactionsIdDf=ReactionsIdDf.sort_values('reaction')\n",
    "print('dataframe with reactions \\n:', ReactionsIdDf)"
   ]
  },
  {
   "cell_type": "code",
   "execution_count": 6,
   "id": "3d608f63-4aeb-4d4a-b61f-3c04a027973d",
   "metadata": {},
   "outputs": [],
   "source": [
    "NeuroUniversalRxs=ReactionsIdDf.reaction.unique()\n",
    "NeuroUniversalRxsDF = pd.DataFrame(NeuroUniversalRxs, columns=['ReactionID'])"
   ]
  },
  {
   "cell_type": "code",
   "execution_count": 7,
   "id": "07a9534f-cf51-4a5d-946f-88ffcfe2ffd5",
   "metadata": {},
   "outputs": [],
   "source": [
    "# NeuroUniversalRxsDF.to_excel('curated_neuroRxs.xlsx')"
   ]
  },
  {
   "cell_type": "code",
   "execution_count": null,
   "id": "c4fa3817-4fd3-4bd8-849b-fd463331d7d6",
   "metadata": {},
   "outputs": [],
   "source": []
  }
 ],
 "metadata": {
  "kernelspec": {
   "display_name": "Python 3 (ipykernel)",
   "language": "python",
   "name": "python3"
  },
  "language_info": {
   "codemirror_mode": {
    "name": "ipython",
    "version": 3
   },
   "file_extension": ".py",
   "mimetype": "text/x-python",
   "name": "python",
   "nbconvert_exporter": "python",
   "pygments_lexer": "ipython3",
   "version": "3.9.6"
  }
 },
 "nbformat": 4,
 "nbformat_minor": 5
}
