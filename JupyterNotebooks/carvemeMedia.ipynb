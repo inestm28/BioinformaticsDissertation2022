{
 "cells": [
  {
   "cell_type": "code",
   "execution_count": 1,
   "id": "5d2b1c4f-256f-4761-9226-513cffa6a3ae",
   "metadata": {},
   "outputs": [],
   "source": [
    "from glob import glob\n",
    "from framed import load_cbmodel\n",
    "import pandas as pd\n",
    "from framed.io.sbml import sanitize_id\n",
    "import cobra\n",
    "from cobra.io import read_sbml_model\n",
    "from operator import itemgetter\n",
    "from multiprocessing import Pool\n",
    "from tqdm import tqdm\n",
    "from cobra.medium import minimal_medium"
   ]
  },
  {
   "cell_type": "markdown",
   "id": "f444c67a-ecf4-4f9b-b1dc-062aad60706b",
   "metadata": {},
   "source": [
    "# Different Media"
   ]
  },
  {
   "cell_type": "code",
   "execution_count": 22,
   "id": "6f017c6f-4e72-4dbb-8c73-b69099a69dbb",
   "metadata": {},
   "outputs": [
    {
     "name": "stdout",
     "output_type": "stream",
     "text": [
      "50\n"
     ]
    }
   ],
   "source": [
    "#put M9 and LB media from Carveme, with curated ids, in excel file\n",
    "M9CarvemeModel=read_sbml_model(\"Btheta_gram_gapFilled_after.xml.gz\")\n",
    "M9CarvemeModel.optimize()\n",
    "M9CarvemeMedium=[v for v in M9CarvemeModel.medium.keys()]\n",
    "#change _e by (e)\n",
    "f = lambda x: x.replace(\"_e\", \"(e)\")\n",
    "M9CarvemeMedium=list(map(f, M9CarvemeMedium))\n",
    "#change __ by _\n",
    "y = lambda x: x.replace(\"__\", \"_\")\n",
    "M9CarvemeMedium=list(map(y, M9CarvemeMedium))\n",
    "# M9List\n",
    "# print(len(M9CarvemeMedium))\n",
    "M9CarvemeMedium\n",
    "\n",
    "\n",
    "LBCarvemeModel=read_sbml_model(\"LBmedium_Btheta_gram_gapFilled_after.xml.gz\")\n",
    "LBCarvemeModel.optimize()\n",
    "LBmediumList=[v for v in LBCarvemeModel.medium.keys()]\n",
    "#change _e by (e)\n",
    "f = lambda x: x.replace(\"_e\", \"(e)\")\n",
    "LBmediumList=list(map(f, LBmediumList))\n",
    "#change __ by _\n",
    "y = lambda x: x.replace(\"__\", \"_\")\n",
    "LBmediumList=list(map(y, LBmediumList))\n",
    "print(len(LBmediumList))\n",
    "\n",
    "MediaDFs=[]\n",
    "M9DF=pd.Series(M9CarvemeMedium, name='M9')\n",
    "LBDF=pd.Series(LBmediumList,  name='LB')\n",
    "df=pd.merge(LBDF,M9DF,how='left', right_index = True,left_index = True)\n",
    "# df.to_excel('carvemeMedia.xlsx')"
   ]
  }
 ],
 "metadata": {
  "kernelspec": {
   "display_name": "Python 3 (ipykernel)",
   "language": "python",
   "name": "python3"
  },
  "language_info": {
   "codemirror_mode": {
    "name": "ipython",
    "version": 3
   },
   "file_extension": ".py",
   "mimetype": "text/x-python",
   "name": "python",
   "nbconvert_exporter": "python",
   "pygments_lexer": "ipython3",
   "version": "3.9.6"
  }
 },
 "nbformat": 4,
 "nbformat_minor": 5
}
